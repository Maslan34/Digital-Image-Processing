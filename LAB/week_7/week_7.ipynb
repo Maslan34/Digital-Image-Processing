{
 "cells": [
  {
   "cell_type": "markdown",
   "metadata": {},
   "source": [
    "Morphological Image Processing"
   ]
  },
  {
   "cell_type": "markdown",
   "metadata": {},
   "source": [
    "Creating a binary image with your name to work on Morphological Image Processing\n",
    "\n",
    "! Because morphological operations can only be applied to black and white images.\n",
    "\n"
   ]
  },
  {
   "cell_type": "code",
   "execution_count": 26,
   "metadata": {},
   "outputs": [],
   "source": [
    "import cv2 \n",
    "import numpy as np"
   ]
  },
  {
   "cell_type": "code",
   "execution_count": 27,
   "metadata": {},
   "outputs": [
    {
     "data": {
      "text/plain": [
       "True"
      ]
     },
     "execution_count": 27,
     "metadata": {},
     "output_type": "execute_result"
    }
   ],
   "source": [
    "\n",
    "# Creating black and white image\n",
    "height, width = 300, 400\n",
    "black_and_white_image = np.zeros((height, width), dtype=np.uint8)\n",
    "\n",
    "# Write your name\n",
    "name = \"Muharrem Aslan\"\n",
    "\n",
    "font = cv2.FONT_HERSHEY_SIMPLEX\n",
    "font_scale = 1\n",
    "font_thickness = 2\n",
    "text_size = cv2.getTextSize(name, font, font_scale, font_thickness)[0]\n",
    "text_position = ((width - text_size[0]) // 2, (height + text_size[1]) // 2)\n",
    "cv2.putText(black_and_white_image, name, text_position, font, font_scale, 255, font_thickness, cv2.LINE_AA)\n",
    "\n",
    "# Görüntüyü göster\n",
    "cv2.imshow(\"Black-White Image\", black_and_white_image)\n",
    "cv2.waitKey(0)\n",
    "cv2.destroyAllWindows()\n",
    "\n",
    "# Görüntüyü dosyaya kaydet\n",
    "cv2.imwrite(\"images/black_and_white.png\", black_and_white_image)"
   ]
  },
  {
   "cell_type": "markdown",
   "metadata": {},
   "source": [
    "Erasion and Expansion"
   ]
  },
  {
   "cell_type": "code",
   "execution_count": 28,
   "metadata": {},
   "outputs": [],
   "source": [
    "img = cv2.imread(\"images/black_and_white.png\",0)\n",
    "\n",
    "titles = [\"Orginal \",\"Erasion\",\"Expansion\"]\n",
    "\n",
    "kernel = np.ones((5,5),np.uint8)\n",
    "\n",
    "img_erasion = cv2.erode(img,kernel,iterations=1)\n",
    "img_dilation = cv2.dilate(img,kernel,iterations=1)\n",
    "\n",
    "compare =np.concatenate((img,img_erasion,img_dilation),axis=1)\n",
    "\n",
    "for i, title in enumerate(titles):\n",
    "    cv2.putText(compare, title, (i * 400 + 10, 30), cv2.FONT_HERSHEY_SIMPLEX, 1, (255, 255, 255), 2, cv2.LINE_AA)\n",
    "\n",
    "cv2.imshow(\"Erasion and Expansion\", compare)\n",
    "cv2.waitKey(0)\n",
    "cv2.destroyAllWindows()"
   ]
  },
  {
   "cell_type": "markdown",
   "metadata": {},
   "source": [
    "Opening and Closing"
   ]
  },
  {
   "cell_type": "code",
   "execution_count": 29,
   "metadata": {},
   "outputs": [],
   "source": [
    "img = cv2.imread(\"images/black_and_white.png\",0)\n",
    "\n",
    "titles = [\"Closing\", \"Opening\"]\n",
    "\n",
    "kernel = np.ones((5,5),dtype=np.uint8)\n",
    "\n",
    "whiteNoise = np.random.randint(0,2, size=img.shape[:2])\n",
    "\n",
    "whiteNoise = whiteNoise*255\n",
    "\n",
    "noiseImageOpening = whiteNoise +img\n",
    "\n",
    "\n",
    "opening  = cv2.morphologyEx(noiseImageOpening.astype(np.float32),cv2.MORPH_OPEN,kernel=kernel)\n",
    "\n",
    "\n",
    "blackNoise= np.random.randint(0,2, size=img.shape[:2])\n",
    "\n",
    "blackNoise = blackNoise*-255\n",
    "\n",
    "noiseImageClosing = blackNoise +img\n",
    "\n",
    "noiseImageClosing[noiseImageClosing <= -245] = 0 \n",
    "\n",
    "\n",
    "\n",
    "closing  = cv2.morphologyEx(noiseImageClosing.astype(np.float32),cv2.MORPH_CLOSE,kernel=kernel)\n",
    "\n",
    "\n",
    "compareOpenigClosing =np.concatenate((closing,opening),axis=1)\n",
    "\n",
    "for i, title in enumerate(titles):\n",
    "    cv2.putText(compareOpenigClosing, title, (i * 400 + 10, 30), cv2.FONT_HERSHEY_SIMPLEX, 1, (255, 255, 255), 2, cv2.LINE_AA)\n",
    "\n",
    "cv2.imshow(\"Opening and Closing\", compareOpenigClosing)\n",
    "\n",
    "cv2.waitKey(0)\n",
    "cv2.destroyAllWindows()"
   ]
  }
 ],
 "metadata": {
  "kernelspec": {
   "display_name": "Python 3",
   "language": "python",
   "name": "python3"
  },
  "language_info": {
   "codemirror_mode": {
    "name": "ipython",
    "version": 3
   },
   "file_extension": ".py",
   "mimetype": "text/x-python",
   "name": "python",
   "nbconvert_exporter": "python",
   "pygments_lexer": "ipython3",
   "version": "3.10.8"
  }
 },
 "nbformat": 4,
 "nbformat_minor": 2
}
