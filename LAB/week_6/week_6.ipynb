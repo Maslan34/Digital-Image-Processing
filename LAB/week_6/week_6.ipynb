{
 "cells": [
  {
   "cell_type": "markdown",
   "metadata": {},
   "source": [
    "Color Image Processing"
   ]
  },
  {
   "cell_type": "code",
   "execution_count": 53,
   "metadata": {},
   "outputs": [],
   "source": [
    "import numpy as np\n",
    "import cv2 as cv\n",
    "from matplotlib import pyplot as plt"
   ]
  },
  {
   "cell_type": "code",
   "execution_count": 55,
   "metadata": {},
   "outputs": [
    {
     "name": "stdout",
     "output_type": "stream",
     "text": [
      "(192, 204)\n",
      "(192, 204, 3)\n",
      "(192, 204, 3)\n",
      "(192, 204, 3)\n"
     ]
    }
   ],
   "source": [
    "\n",
    "img = cv.imread(\"images/dog.jpeg\",0)\n",
    "grayscale = cv.cvtColor(img, cv.COLOR_GRAY2RGB)\n",
    "rgbImage = cv.cvtColor(grayscale, cv.COLOR_RGB2HSV)\n",
    "hsvImage = cv.cvtColor(rgbImage, cv.COLOR_RGB2HSV)\n",
    "\n",
    "\n",
    "#Showing shapes of image\n",
    "print(img.shape)\n",
    "print(grayscale.shape)\n",
    "print(rgbImage.shape)\n",
    "print(hsvImage.shape)\n",
    "\n",
    "\n",
    "original=\"Original Img\"\n",
    "titles = ['Grayscaled', 'RGB Image', 'HSV Image']\n",
    "\n",
    "# Concatenating images to display them together\n",
    "compare = np.concatenate((grayscale, rgbImage, hsvImage), axis=1)\n",
    "\n",
    "# adding titles to images\n",
    "for i, title in enumerate(titles):\n",
    "    cv.putText(compare, title, (i * 204 + 10, 30), cv.FONT_HERSHEY_SIMPLEX, 1, (255, 255, 255), 2, cv.LINE_AA)\n",
    "\n",
    "cv.putText(img, original, (10, 30), cv.FONT_HERSHEY_SIMPLEX, 1, (255, 255, 255), 2, cv.LINE_AA)\n",
    "\n",
    "\n",
    "\n",
    "# Showing the images\n",
    "\n",
    "cv.imshow(\"Original image\",img)\n",
    "cv.imshow(\"Comparison with Color Image Processing\", compare)\n",
    "\n",
    "cv.waitKey(0)\n",
    "cv.destroyAllWindows()\n",
    "\n"
   ]
  },
  {
   "cell_type": "markdown",
   "metadata": {},
   "source": [
    "Changing CMYK Properties of An Image\n"
   ]
  },
  {
   "cell_type": "code",
   "execution_count": 57,
   "metadata": {},
   "outputs": [],
   "source": [
    "# importing required libraries\n",
    "import cv2 as cv\n",
    "from PIL import Image\n",
    "\n",
    "def change_cmyk(image_path, c, m, y, k):\n",
    "    \n",
    "    # Loading image\n",
    "    imageCMYK = Image.open(image_path)\n",
    "\n",
    "    # Converting image to RGB format\n",
    "    rgb_image = imageCMYK.convert('RGB')\n",
    "\n",
    "    # Getting RGB pixel data\n",
    "    rgb_data = list(rgb_image.getdata())\n",
    "\n",
    "    # Calculating CMYK\n",
    "    cmyk_data = [(255 - pixel[0], 255 - pixel[1], 255 - pixel[2], 0) for pixel in rgb_data]\n",
    "    cmyk_data = [(pixel[0] + c, pixel[1] + m, pixel[2] + y, pixel[3] + k) for pixel in cmyk_data]\n",
    "\n",
    "    # Creating a new RGB image using the new CMYK data\n",
    "    new_rgb_data = [(255 - pixel[0], 255 - pixel[1], 255 - pixel[2]) for pixel in cmyk_data]\n",
    "    new_rgb_image = Image.new('RGB', rgb_image.size)\n",
    "    new_rgb_image.putdata(new_rgb_data)\n",
    "\n",
    "    # Converting the PIL Image to a NumPy array\n",
    "    new_rgb_array = np.array(new_rgb_image)\n",
    "\n",
    "    # Displaying\n",
    "    height, width = 20, 145\n",
    "    font = cv.FONT_HERSHEY_SIMPLEX\n",
    "    font_scale = 0.4\n",
    "    font_thickness = 1\n",
    "    text_size = cv.getTextSize(f\"C:{c}M:{m}Y:{y}K:{k}\", font, font_scale, font_thickness)[0]\n",
    "    text_position = ((width - text_size[0]) // 2, (height + text_size[1]) // 2)\n",
    "    cv.putText(new_rgb_array, f\"C:{c}M:{m}Y:{y}K:{k}\", text_position, font, font_scale, (255, 255, 255), font_thickness, cv.LINE_AA)\n",
    "    original_rgb_image = cv.imread(image_path)\n",
    " \n",
    "    compare =np.concatenate((original_rgb_image,new_rgb_array),axis=1)\n",
    "    cv.imshow(\"CMYK\", compare)\n",
    "    cv.waitKey(0)\n",
    "    cv.destroyAllWindows()\n",
    "\n",
    "change_cmyk(\"images/parrot.jpeg\", 0, 0, 0, 0)\n",
    "change_cmyk(\"images/parrot.jpeg\", 255, 255,255, 255)\n",
    "change_cmyk(\"images/parrot.jpeg\", 100, 150, 50, 200)\n",
    "change_cmyk(\"images/parrot.jpeg\", 200, 20, 10, 0)\n",
    "change_cmyk(\"images/parrot.jpeg\", 20, 200, 10, 0)\n",
    "change_cmyk(\"images/parrot.jpeg\", 10, 20, 200, 0)\n",
    "change_cmyk(\"images/parrot.jpeg\", 0, 10, 20, 200)"
   ]
  }
 ],
 "metadata": {
  "kernelspec": {
   "display_name": "Python 3",
   "language": "python",
   "name": "python3"
  },
  "language_info": {
   "codemirror_mode": {
    "name": "ipython",
    "version": 3
   },
   "file_extension": ".py",
   "mimetype": "text/x-python",
   "name": "python",
   "nbconvert_exporter": "python",
   "pygments_lexer": "ipython3",
   "version": "3.10.8"
  }
 },
 "nbformat": 4,
 "nbformat_minor": 2
}
