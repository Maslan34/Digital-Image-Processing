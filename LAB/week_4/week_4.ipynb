{
 "cells": [
  {
   "cell_type": "code",
   "execution_count": 1,
   "metadata": {},
   "outputs": [],
   "source": [
    "import cv2\n",
    "import numpy as np\n",
    "import matplotlib.pyplot as plt"
   ]
  },
  {
   "cell_type": "code",
   "execution_count": 2,
   "metadata": {},
   "outputs": [],
   "source": [
    "path='images/smiling.png'"
   ]
  },
  {
   "cell_type": "markdown",
   "metadata": {},
   "source": [
    "Two Smoothing Averaging Filter Masks"
   ]
  },
  {
   "cell_type": "code",
   "execution_count": 3,
   "metadata": {},
   "outputs": [
    {
     "data": {
      "text/plain": [
       "array([[1., 1., 1.],\n",
       "       [1., 1., 1.],\n",
       "       [1., 1., 1.]])"
      ]
     },
     "execution_count": 3,
     "metadata": {},
     "output_type": "execute_result"
    }
   ],
   "source": [
    "kernel1 = np.ones((3, 3)) # X 1/9\n",
    "kernel1"
   ]
  },
  {
   "cell_type": "code",
   "execution_count": 5,
   "metadata": {},
   "outputs": [],
   "source": [
    "image = cv2.imread(path,0)\n",
    "img = cv2.filter2D(src=image, ddepth=-1, kernel=kernel1)\n",
    "cv2.imshow(\"Blur\",img)\n",
    "cv2.waitKey(0)\n",
    "cv2.destroyAllWindows()"
   ]
  },
  {
   "cell_type": "markdown",
   "metadata": {},
   "source": [
    "Blur an image with a 2D convolution matrix"
   ]
  },
  {
   "cell_type": "code",
   "execution_count": 6,
   "metadata": {},
   "outputs": [],
   "source": [
    "convol =image = cv2.imread(path,0)\n",
    "original_convol =image = cv2.imread(path,0)\n",
    "kernel2 = np.ones((5,5),np.float32)/30\n",
    "img2 = cv2.filter2D(src=image, ddepth=-1, kernel=kernel2)\n",
    "cv2.imshow(\"convolution matrix\",img2)\n",
    "cv2.imshow(\"original_convolution \",original_convol)\n",
    "cv2.waitKey(0)\n",
    "cv2.destroyAllWindows()"
   ]
  },
  {
   "cell_type": "markdown",
   "metadata": {},
   "source": [
    "You can apply same thing  by using built-in function from opencv library."
   ]
  },
  {
   "cell_type": "code",
   "execution_count": 7,
   "metadata": {},
   "outputs": [],
   "source": [
    "image_builtin=cv2.imread(path,0)\n",
    "im1=cv2.blur(image_builtin,(5,5))\n",
    "im2=cv2.boxFilter(image_builtin,-1,(2,2),normalize=True)\n",
    "cv2.imshow(\"image\",np.hstack((im1,im2)))      \n",
    "cv2.waitKey(0)\n",
    "cv2.destroyAllWindows()\n",
    "                  "
   ]
  },
  {
   "cell_type": "markdown",
   "metadata": {},
   "source": [
    "Non-Linear Filters"
   ]
  },
  {
   "cell_type": "code",
   "execution_count": 8,
   "metadata": {},
   "outputs": [],
   "source": [
    "brain_img = cv2.imread(path,0)\n",
    "meadian_filter = cv2.medianBlur(brain_img,5)\n",
    "compare =np.concatenate((brain_img,meadian_filter),axis=1)\n",
    "\n",
    "cv2.imshow(\"Non-Linear\",compare)\n",
    "cv2.waitKey(0)\n",
    "cv2.destroyAllWindows()"
   ]
  },
  {
   "cell_type": "markdown",
   "metadata": {},
   "source": [
    "Laplace Operator"
   ]
  },
  {
   "cell_type": "code",
   "execution_count": 9,
   "metadata": {},
   "outputs": [],
   "source": [
    "ddepth = cv2.CV_16S\n",
    "src = cv2.imread(path,0)\n",
    "\n",
    "# Reducing noise by using GaussianBlur\n",
    "src_gauss = cv2.GaussianBlur(src,(3,3),0)\n",
    "\n",
    "\n",
    "\n",
    "# creating window\n",
    "cv2.namedWindow = (\"Laplace\",cv2.WINDOW_AUTOSIZE)\n",
    "\n",
    "# applying Laplace Filter\n",
    "laplace= cv2.Laplacian(src_gauss,ddepth,3)\n",
    "\n",
    "# converting back to uint8\n",
    "laplace_final= cv2.convertScaleAbs(laplace)\n",
    "\n",
    "\n",
    "# Displaying\n",
    "cv2.imshow(\"Laplace\",np.hstack((src,laplace_final)))    \n",
    "cv2.waitKey(0)\n",
    "cv2.destroyAllWindows()\n",
    "\n",
    "\n",
    "\n",
    "\n"
   ]
  }
 ],
 "metadata": {
  "kernelspec": {
   "display_name": "Python 3",
   "language": "python",
   "name": "python3"
  },
  "language_info": {
   "codemirror_mode": {
    "name": "ipython",
    "version": 3
   },
   "file_extension": ".py",
   "mimetype": "text/x-python",
   "name": "python",
   "nbconvert_exporter": "python",
   "pygments_lexer": "ipython3",
   "version": "3.10.8"
  }
 },
 "nbformat": 4,
 "nbformat_minor": 2
}
