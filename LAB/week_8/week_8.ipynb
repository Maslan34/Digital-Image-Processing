{
 "cells": [
  {
   "cell_type": "markdown",
   "metadata": {},
   "source": [
    "IMAGE SEGMENTATION"
   ]
  },
  {
   "cell_type": "code",
   "execution_count": 1,
   "metadata": {},
   "outputs": [],
   "source": [
    "#Importing Libraries\n",
    "import cv2\n",
    "import numpy as np"
   ]
  },
  {
   "cell_type": "code",
   "execution_count": 2,
   "metadata": {},
   "outputs": [],
   "source": [
    "#Reading Data\n",
    "image =cv2.imread(\"./images/smiling.png\",0)\n",
    "\n"
   ]
  },
  {
   "cell_type": "code",
   "execution_count": 3,
   "metadata": {},
   "outputs": [],
   "source": [
    "#Here using two different threshold functions\n",
    "ret1, thresh1 = cv2.threshold(image,127,255,cv2.THRESH_BINARY)\n",
    "ret2, thresh2 = cv2.threshold(image,0,255,cv2.THRESH_BINARY+cv2.THRESH_OTSU)\n"
   ]
  },
  {
   "cell_type": "code",
   "execution_count": 4,
   "metadata": {},
   "outputs": [],
   "source": [
    "#adjusting images for displaying \n",
    "compare = np.concatenate((image, thresh1, thresh2), axis=1)\n",
    "\n",
    "titles = [\"original image\", \"simple Thresholding\", \"otsu thresholding\"]\n",
    "\n",
    "\n",
    "\n",
    "for i, t in enumerate(titles):\n",
    "    cv2.putText(compare, t, (i * 500 + 10, 50), cv2.FONT_HERSHEY_SIMPLEX, 1, (255, 255, 255), 2, cv2.LINE_AA)\n",
    "\n",
    "cv2.imshow(\"IMAGE SEGMENTATION\", compare)\n",
    "\n",
    "\n",
    "cv2.waitKey(0)\n",
    "cv2.destroyAllWindows()\n",
    "\n"
   ]
  },
  {
   "cell_type": "markdown",
   "metadata": {},
   "source": [
    "CANNY EDGE DETECTION"
   ]
  },
  {
   "cell_type": "code",
   "execution_count": 5,
   "metadata": {},
   "outputs": [],
   "source": [
    "#reading image\n",
    "canny_image = cv2.imread(\"./images/sponge_Bob.png\",0)\n",
    "\n"
   ]
  },
  {
   "cell_type": "code",
   "execution_count": 6,
   "metadata": {},
   "outputs": [],
   "source": [
    "#adding blur to image\n",
    "blur = cv2.GaussianBlur(canny_image,(5,5),0)"
   ]
  },
  {
   "cell_type": "code",
   "execution_count": 7,
   "metadata": {},
   "outputs": [],
   "source": [
    "# applying Canny edge detection to image\n",
    "canny = cv2.Canny(blur,75,225)"
   ]
  },
  {
   "cell_type": "code",
   "execution_count": 8,
   "metadata": {},
   "outputs": [],
   "source": [
    "# displaying image\n",
    "cv2.imshow(\"Canny Image\",canny);\n",
    "\n",
    "cv2.waitKey(0);\n",
    "cv2.destroyAllWindows();"
   ]
  },
  {
   "cell_type": "markdown",
   "metadata": {},
   "source": [
    "Canny Wıth Gaussian Blur and without\n",
    "\n",
    "!Here the aim is to unroll the difference between using blur and not! "
   ]
  },
  {
   "cell_type": "code",
   "execution_count": 9,
   "metadata": {},
   "outputs": [],
   "source": [
    "\n",
    "image_road = cv2.imread(\"./images/road.jpeg\", 0)\n",
    "\n",
    "_, image_road_blur = cv2.threshold(image_road, 127, 255, cv2.THRESH_BINARY)\n",
    "_, image_road_withouth_blur = cv2.threshold(image_road, 127, 255, cv2.THRESH_BINARY)\n",
    "\n",
    "# Adding blur here\n",
    "image_road_with_blur = cv2.GaussianBlur(image_road_blur, (5, 5), 0)\n",
    "\n",
    "image_road_with_blur_canny = cv2.Canny(image_road_with_blur, 75, 225)\n",
    "image_road_withouth_blur_canny = cv2.Canny(image_road_withouth_blur, 75, 225)\n",
    "\n",
    "compare = np.concatenate((image_road_with_blur_canny, image_road_withouth_blur_canny), axis=1)\n",
    "\n",
    "titles_blur = [\" with Blur\", \" without blur\"]\n",
    "\n",
    "for i, t in enumerate(titles_blur):\n",
    "    cv2.putText(compare, t, (i * 250 + 10, 50), cv2.FONT_HERSHEY_SIMPLEX, 1, (255, 255, 255), 2, cv2.LINE_AA)\n",
    "\n",
    "cv2.imshow(\"BLUR COMPARISON\", compare)\n",
    "\n",
    "cv2.waitKey(0)\n",
    "cv2.destroyAllWindows()\n",
    "\n"
   ]
  }
 ],
 "metadata": {
  "kernelspec": {
   "display_name": "Python 3",
   "language": "python",
   "name": "python3"
  },
  "language_info": {
   "codemirror_mode": {
    "name": "ipython",
    "version": 3
   },
   "file_extension": ".py",
   "mimetype": "text/x-python",
   "name": "python",
   "nbconvert_exporter": "python",
   "pygments_lexer": "ipython3",
   "version": "3.10.8"
  }
 },
 "nbformat": 4,
 "nbformat_minor": 2
}
