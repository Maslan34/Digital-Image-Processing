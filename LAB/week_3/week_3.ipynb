{
 "cells": [
  {
   "cell_type": "code",
   "execution_count": 1,
   "metadata": {},
   "outputs": [],
   "source": [
    "import cv2\n",
    "import numpy as np\n",
    "import matplotlib.pyplot as plt"
   ]
  },
  {
   "cell_type": "code",
   "execution_count": 2,
   "metadata": {},
   "outputs": [
    {
     "name": "stdout",
     "output_type": "stream",
     "text": [
      "Size of picture: 346785\n",
      "Size of data type: uint8\n",
      "Shape of picture: (305, 379, 3)\n"
     ]
    }
   ],
   "source": [
    "picture = cv2.imread(\"images/kakule.png\")\n",
    "\n",
    "cv2.imshow(\"kakule\",picture)\n",
    "\n",
    "# getting size of picture\n",
    "\n",
    "print(\"Size of picture: \" + str(picture.size) )\n",
    "\n",
    "# getting data type of picture\n",
    "\n",
    "print(\"Size of data type: \" +str(picture.dtype) )\n",
    "\n",
    "# getting width , height and how many canals it have in picture\n",
    "\n",
    "print(\"Shape of picture: \" + str(picture.shape) )\n",
    "\n",
    "cv2.waitKey(0)\n",
    "cv2.destroyAllWindows()"
   ]
  },
  {
   "cell_type": "code",
   "execution_count": 5,
   "metadata": {},
   "outputs": [
    {
     "data": {
      "image/png": "[encoded data removed]",
      "text/plain": [
       "<Figure size 1000x400 with 1 Axes>"
      ]
     },
     "metadata": {},
     "output_type": "display_data"
    }
   ],
   "source": [
    "row = 256 \n",
    "column = 256\n",
    "\n",
    "image = np.zeros( (row,column) )\n",
    "\n",
    "# getting grey calor in the image \n",
    "image[100:105 , : ] = 0.5\n",
    "\n",
    "# getting white calor in the image \n",
    "image[ : , 100:105] = 1\n",
    "\n",
    "#plotting\n",
    "fig = plt.figure(figsize=(10, 4))\n",
    "\n",
    "\n",
    "x = [0, 1, 1, 0, 0]  # x coordinates\n",
    "y = [0, 0, 1, 1, 0]  # y coordinates\n",
    "\n",
    "\n",
    "row = 256\n",
    "column = 256\n",
    "\n",
    "image = np.zeros((row, column))\n",
    "\n",
    "# creating black square\n",
    "image[50:200, 50:200] = 0  \n",
    "\n",
    "#creating white and grey axis\n",
    "image[100:105, :] = 0.5\n",
    "image[:, 100:105] = 1\n",
    "\n",
    "# Plotting\n",
    "plt.imshow(image, cmap='gray')\n",
    "plt.show()"
   ]
  },
  {
   "cell_type": "code",
   "execution_count": 6,
   "metadata": {},
   "outputs": [],
   "source": [
    "height =512\n",
    "width =512\n",
    "\n",
    "img=np.random.randint(255,size=(height,width,1),dtype=np.uint8)\n",
    "\n",
    "cv2.imshow(\"0-1\",img)\n",
    "\n",
    "cv2.waitKey(0)\n",
    "cv2.destroyAllWindows()"
   ]
  },
  {
   "cell_type": "code",
   "execution_count": 8,
   "metadata": {},
   "outputs": [
    {
     "data": {
      "text/plain": [
       "5"
      ]
     },
     "execution_count": 8,
     "metadata": {},
     "output_type": "execute_result"
    }
   ],
   "source": [
    "array = [1, 3, 5, 7, 9] \n",
    "\n",
    "value=array[2]\n",
    "\n",
    "value"
   ]
  },
  {
   "cell_type": "code",
   "execution_count": 9,
   "metadata": {},
   "outputs": [
    {
     "data": {
      "text/plain": [
       "array([[ 1, 11],\n",
       "       [ 3, 13],\n",
       "       [ 5, 15],\n",
       "       [ 7, 17],\n",
       "       [ 9, 19]])"
      ]
     },
     "execution_count": 9,
     "metadata": {},
     "output_type": "execute_result"
    }
   ],
   "source": [
    "\n",
    "v = [[1, 3, 5, 7, 9] , [11, 13, 15, 17, 19]] \n",
    "w = np.transpose(v)\n",
    "\n",
    "w"
   ]
  },
  {
   "cell_type": "code",
   "execution_count": 10,
   "metadata": {},
   "outputs": [
    {
     "data": {
      "text/plain": [
       "[[21, 23, 25, 27, 29], [31, 33, 35, 37, 39]]"
      ]
     },
     "execution_count": 10,
     "metadata": {},
     "output_type": "execute_result"
    }
   ],
   "source": [
    "index = [[1, 3, 5, 7, 9] , [11, 13, 15, 17, 19],[21, 23, 25, 27, 29],[31, 33, 35, 37, 39],[41, 43, 45, 47, 49]] \n",
    "\n",
    "value = index[2:4]\n",
    "\n",
    "value"
   ]
  },
  {
   "cell_type": "code",
   "execution_count": 21,
   "metadata": {},
   "outputs": [
    {
     "data": {
      "text/plain": [
       "[[31, 33, 35, 37, 39], [41, 43, 45, 47, 49]]"
      ]
     },
     "execution_count": 21,
     "metadata": {},
     "output_type": "execute_result"
    }
   ],
   "source": [
    "value = index[3:] \n",
    "\n",
    "value"
   ]
  },
  {
   "cell_type": "code",
   "execution_count": 22,
   "metadata": {},
   "outputs": [
    {
     "data": {
      "text/plain": [
       "[[1, 3, 5, 7, 9], [21, 23, 25, 27, 29], [41, 43, 45, 47, 49]]"
      ]
     },
     "execution_count": 22,
     "metadata": {},
     "output_type": "execute_result"
    }
   ],
   "source": [
    "value = index[0::2]\n",
    "\n",
    "value"
   ]
  },
  {
   "cell_type": "code",
   "execution_count": 28,
   "metadata": {},
   "outputs": [
    {
     "name": "stdout",
     "output_type": "stream",
     "text": [
      "Type:  <class 'list'>\n",
      "C =  [[1, 11, 20], [25, 27, 34], [43, 65, 65], [77, 87, 100]]\n",
      "2nd Row =  [[25, 27, 34]]\n",
      "3rd Elements of 2nd Row =  34\n",
      "Last Element of First Row =  20\n"
     ]
    }
   ],
   "source": [
    "C =[[1,11,20],\n",
    "    [25,27,34],\n",
    "    [43,65,65],\n",
    "    [77,87,100]]\n",
    "\n",
    "print(\"Type: \",type(C))\n",
    "print(\"C = \",C)\n",
    "print(\"2nd Row = \",C[1:2:])\n",
    "print(\"3rd Elements of 2nd Row = \",C[1][2])\n",
    "print(\"Last Element of First Row = \",C[0][-1])"
   ]
  },
  {
   "cell_type": "code",
   "execution_count": 29,
   "metadata": {},
   "outputs": [
    {
     "name": "stdout",
     "output_type": "stream",
     "text": [
      "Type:  <class 'numpy.ndarray'>\n",
      "C =  [[  1  11  20]\n",
      " [ 25  27  34]\n",
      " [ 43  65  65]\n",
      " [ 77  87 100]]\n",
      "2nd Row =  [[25 27 34]]\n",
      "3rd Elements of 2nd Row =  34\n",
      "Last Element of First Row =  20\n"
     ]
    }
   ],
   "source": [
    "# Doing Same Thing with Numpy Arrays\n",
    "\n",
    "C=np.array([[1,11,20],\n",
    "            [25,27,34],\n",
    "            [43,65,65],\n",
    "            [77,87,100]])\n",
    "\n",
    "print(\"Type: \",type(C))\n",
    "print(\"C = \",C)\n",
    "print(\"2nd Row = \",C[1:2:])\n",
    "print(\"3rd Elements of 2nd Row = \",C[1][2])\n",
    "print(\"Last Element of First Row = \",C[0][-1])"
   ]
  },
  {
   "cell_type": "code",
   "execution_count": 38,
   "metadata": {},
   "outputs": [
    {
     "name": "stdout",
     "output_type": "stream",
     "text": [
      "All Rows at 2nd Row =  [[1]\n",
      " [5]\n",
      " [6]]\n"
     ]
    }
   ],
   "source": [
    "D= np.array([[1, 1, 2], [3, 5, 3], [5, 6, 9]])\n",
    "\n",
    "print(\"All Rows at 2nd Row = \", D[:,1:2]) # :1:2 ? :,1:2"
   ]
  },
  {
   "cell_type": "code",
   "execution_count": 40,
   "metadata": {},
   "outputs": [
    {
     "name": "stdout",
     "output_type": "stream",
     "text": [
      "K=  [[1 1 2]\n",
      " [3 5 3]\n",
      " [5 6 9]]\n",
      "L=  [[1 1 0]\n",
      " [3 5 0]\n",
      " [5 6 0]]\n"
     ]
    }
   ],
   "source": [
    "# Example question: How can we\n",
    "#make a matrix L whose third column is 0, but the other columns are equal to K??\n",
    "\n",
    "\n",
    "K= np.array([[1, 1, 2], [3, 5, 3], [5, 6, 9]])\n",
    "\n",
    "print(\"K= \",K)\n",
    "\n",
    "L=K\n",
    "\n",
    "L[:,-1]=0\n",
    "\n",
    "print(\"L= \",L)\n"
   ]
  },
  {
   "cell_type": "code",
   "execution_count": 43,
   "metadata": {},
   "outputs": [
    {
     "name": "stdout",
     "output_type": "stream",
     "text": [
      "[31 52 73]\n",
      "\n",
      "[31 52 73]\n"
     ]
    }
   ],
   "source": [
    "# sum ( F[ : ] ) is same as  sum(F)\n",
    "\n",
    "F= np.array([[1, 2, 3], [10, 20, 30], [20, 30, 40]])\n",
    "\n",
    "print(sum(F[ : ]))\n",
    "print()\n",
    "print(sum(F))"
   ]
  }
 ],
 "metadata": {
  "kernelspec": {
   "display_name": "Python 3",
   "language": "python",
   "name": "python3"
  },
  "language_info": {
   "codemirror_mode": {
    "name": "ipython",
    "version": 3
   },
   "file_extension": ".py",
   "mimetype": "text/x-python",
   "name": "python",
   "nbconvert_exporter": "python",
   "pygments_lexer": "ipython3",
   "version": "3.10.8"
  }
 },
 "nbformat": 4,
 "nbformat_minor": 2
}
